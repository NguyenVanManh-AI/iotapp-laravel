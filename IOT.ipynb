{
 "cells": [
  {
   "cell_type": "code",
   "execution_count": 1,
   "metadata": {},
   "outputs": [],
   "source": [
    "import requests\n",
    "\n",
    "def send_motor_command(option):\n",
    "    # url = \"http://192.168.100.150/sendOption\"  # Địa chỉ IP của ESP8266\n",
    "    url = \"http://192.168.89.168/sendOption\"  # Địa chỉ IP của ESP8266\n",
    "    data = {'option': option}  # Dữ liệu gửi đi, là tùy chọn bật/tắt động cơ\n",
    "\n",
    "    try:\n",
    "        # Gửi yêu cầu POST đến ESP8266\n",
    "        response = requests.post(url, data=data)\n",
    "        # Kiểm tra phản hồi từ server\n",
    "        if response.status_code == 200:\n",
    "            print(option)\n",
    "        else:\n",
    "            print(\"Có lỗi xảy ra khi gửi yêu cầu:\", response.status_code)\n",
    "    except requests.exceptions.RequestException as e:\n",
    "        print(\"Không thể kết nối đến ESP8266:\", e)\n",
    "\n",
    "# Ví dụ gọi hàm để bật động cơ (option = 1)\n",
    "\n",
    "# Ví dụ gọi hàm để tắt động cơ (option = 2)\n",
    "# send_motor_command(2)"
   ]
  },
  {
   "cell_type": "code",
   "execution_count": 11,
   "metadata": {},
   "outputs": [
    {
     "name": "stdout",
     "output_type": "stream",
     "text": [
      "1\n"
     ]
    }
   ],
   "source": [
    "send_motor_command(1) # quạt "
   ]
  },
  {
   "cell_type": "code",
   "execution_count": 12,
   "metadata": {},
   "outputs": [
    {
     "name": "stdout",
     "output_type": "stream",
     "text": [
      "2\n"
     ]
    }
   ],
   "source": [
    "send_motor_command(2)"
   ]
  },
  {
   "cell_type": "code",
   "execution_count": 39,
   "metadata": {},
   "outputs": [
    {
     "name": "stdout",
     "output_type": "stream",
     "text": [
      "3\n"
     ]
    }
   ],
   "source": [
    "send_motor_command(3) # cửa"
   ]
  },
  {
   "cell_type": "code",
   "execution_count": 38,
   "metadata": {},
   "outputs": [
    {
     "name": "stdout",
     "output_type": "stream",
     "text": [
      "4\n"
     ]
    }
   ],
   "source": [
    "send_motor_command(4)"
   ]
  },
  {
   "cell_type": "code",
   "execution_count": 17,
   "metadata": {},
   "outputs": [
    {
     "name": "stdout",
     "output_type": "stream",
     "text": [
      "5\n"
     ]
    }
   ],
   "source": [
    "send_motor_command(5) # phòng ngủ (bedroom)\n"
   ]
  },
  {
   "cell_type": "code",
   "execution_count": 13,
   "metadata": {},
   "outputs": [
    {
     "name": "stdout",
     "output_type": "stream",
     "text": [
      "6\n"
     ]
    }
   ],
   "source": [
    "send_motor_command(6)"
   ]
  },
  {
   "cell_type": "code",
   "execution_count": 19,
   "metadata": {},
   "outputs": [
    {
     "name": "stdout",
     "output_type": "stream",
     "text": [
      "7\n"
     ]
    }
   ],
   "source": [
    "send_motor_command(7) # (Dining room)"
   ]
  },
  {
   "cell_type": "code",
   "execution_count": 15,
   "metadata": {},
   "outputs": [
    {
     "name": "stdout",
     "output_type": "stream",
     "text": [
      "8\n"
     ]
    }
   ],
   "source": [
    "send_motor_command(8)"
   ]
  },
  {
   "cell_type": "code",
   "execution_count": 18,
   "metadata": {},
   "outputs": [
    {
     "name": "stdout",
     "output_type": "stream",
     "text": [
      "9\n"
     ]
    }
   ],
   "source": [
    "send_motor_command(9) # (Living room)"
   ]
  },
  {
   "cell_type": "code",
   "execution_count": 17,
   "metadata": {},
   "outputs": [
    {
     "name": "stdout",
     "output_type": "stream",
     "text": [
      "10\n"
     ]
    }
   ],
   "source": [
    "send_motor_command(10) # "
   ]
  },
  {
   "cell_type": "code",
   "execution_count": 15,
   "metadata": {},
   "outputs": [
    {
     "name": "stdout",
     "output_type": "stream",
     "text": [
      "Gửi thành công, Động cơ đã được điều khiển theo tùy chọn: 1\n",
      "Gửi thành công, Động cơ đã được điều khiển theo tùy chọn: 2\n",
      "Gửi thành công, Động cơ đã được điều khiển theo tùy chọn: 3\n",
      "Gửi thành công, Động cơ đã được điều khiển theo tùy chọn: 4\n",
      "Gửi thành công, Động cơ đã được điều khiển theo tùy chọn: 5\n",
      "Gửi thành công, Động cơ đã được điều khiển theo tùy chọn: 6\n",
      "Gửi thành công, Động cơ đã được điều khiển theo tùy chọn: 7\n",
      "Gửi thành công, Động cơ đã được điều khiển theo tùy chọn: 8\n",
      "Có lỗi xảy ra khi gửi yêu cầu: 400\n",
      "Có lỗi xảy ra khi gửi yêu cầu: 400\n",
      "Gửi thành công, Động cơ đã được điều khiển theo tùy chọn: 1\n",
      "Gửi thành công, Động cơ đã được điều khiển theo tùy chọn: 2\n",
      "Gửi thành công, Động cơ đã được điều khiển theo tùy chọn: 3\n",
      "Gửi thành công, Động cơ đã được điều khiển theo tùy chọn: 4\n",
      "Gửi thành công, Động cơ đã được điều khiển theo tùy chọn: 5\n",
      "Gửi thành công, Động cơ đã được điều khiển theo tùy chọn: 6\n",
      "Gửi thành công, Động cơ đã được điều khiển theo tùy chọn: 7\n",
      "Gửi thành công, Động cơ đã được điều khiển theo tùy chọn: 8\n",
      "Có lỗi xảy ra khi gửi yêu cầu: 400\n",
      "Có lỗi xảy ra khi gửi yêu cầu: 400\n",
      "Gửi thành công, Động cơ đã được điều khiển theo tùy chọn: 1\n",
      "Gửi thành công, Động cơ đã được điều khiển theo tùy chọn: 2\n",
      "Gửi thành công, Động cơ đã được điều khiển theo tùy chọn: 3\n",
      "Gửi thành công, Động cơ đã được điều khiển theo tùy chọn: 4\n",
      "Gửi thành công, Động cơ đã được điều khiển theo tùy chọn: 5\n",
      "Gửi thành công, Động cơ đã được điều khiển theo tùy chọn: 6\n",
      "Gửi thành công, Động cơ đã được điều khiển theo tùy chọn: 7\n",
      "Gửi thành công, Động cơ đã được điều khiển theo tùy chọn: 8\n",
      "Có lỗi xảy ra khi gửi yêu cầu: 400\n",
      "Có lỗi xảy ra khi gửi yêu cầu: 400\n",
      "Gửi thành công, Động cơ đã được điều khiển theo tùy chọn: 1\n",
      "Gửi thành công, Động cơ đã được điều khiển theo tùy chọn: 2\n",
      "Gửi thành công, Động cơ đã được điều khiển theo tùy chọn: 3\n",
      "Gửi thành công, Động cơ đã được điều khiển theo tùy chọn: 4\n",
      "Gửi thành công, Động cơ đã được điều khiển theo tùy chọn: 5\n",
      "Gửi thành công, Động cơ đã được điều khiển theo tùy chọn: 6\n",
      "Gửi thành công, Động cơ đã được điều khiển theo tùy chọn: 7\n",
      "Gửi thành công, Động cơ đã được điều khiển theo tùy chọn: 8\n",
      "Có lỗi xảy ra khi gửi yêu cầu: 400\n",
      "Có lỗi xảy ra khi gửi yêu cầu: 400\n",
      "Gửi thành công, Động cơ đã được điều khiển theo tùy chọn: 1\n",
      "Gửi thành công, Động cơ đã được điều khiển theo tùy chọn: 2\n",
      "Gửi thành công, Động cơ đã được điều khiển theo tùy chọn: 3\n",
      "Gửi thành công, Động cơ đã được điều khiển theo tùy chọn: 4\n",
      "Gửi thành công, Động cơ đã được điều khiển theo tùy chọn: 5\n",
      "Gửi thành công, Động cơ đã được điều khiển theo tùy chọn: 6\n",
      "Gửi thành công, Động cơ đã được điều khiển theo tùy chọn: 7\n",
      "Gửi thành công, Động cơ đã được điều khiển theo tùy chọn: 8\n",
      "Có lỗi xảy ra khi gửi yêu cầu: 400\n",
      "Có lỗi xảy ra khi gửi yêu cầu: 400\n",
      "Gửi thành công, Động cơ đã được điều khiển theo tùy chọn: 1\n",
      "Gửi thành công, Động cơ đã được điều khiển theo tùy chọn: 2\n",
      "Gửi thành công, Động cơ đã được điều khiển theo tùy chọn: 3\n",
      "Gửi thành công, Động cơ đã được điều khiển theo tùy chọn: 4\n",
      "Gửi thành công, Động cơ đã được điều khiển theo tùy chọn: 5\n",
      "Gửi thành công, Động cơ đã được điều khiển theo tùy chọn: 6\n",
      "Gửi thành công, Động cơ đã được điều khiển theo tùy chọn: 7\n",
      "Gửi thành công, Động cơ đã được điều khiển theo tùy chọn: 8\n",
      "Có lỗi xảy ra khi gửi yêu cầu: 400\n",
      "Có lỗi xảy ra khi gửi yêu cầu: 400\n",
      "Gửi thành công, Động cơ đã được điều khiển theo tùy chọn: 1\n",
      "Gửi thành công, Động cơ đã được điều khiển theo tùy chọn: 2\n",
      "Gửi thành công, Động cơ đã được điều khiển theo tùy chọn: 3\n",
      "Gửi thành công, Động cơ đã được điều khiển theo tùy chọn: 4\n",
      "Gửi thành công, Động cơ đã được điều khiển theo tùy chọn: 5\n",
      "Gửi thành công, Động cơ đã được điều khiển theo tùy chọn: 6\n",
      "Gửi thành công, Động cơ đã được điều khiển theo tùy chọn: 7\n",
      "Gửi thành công, Động cơ đã được điều khiển theo tùy chọn: 8\n",
      "Có lỗi xảy ra khi gửi yêu cầu: 400\n",
      "Có lỗi xảy ra khi gửi yêu cầu: 400\n",
      "Gửi thành công, Động cơ đã được điều khiển theo tùy chọn: 1\n",
      "Gửi thành công, Động cơ đã được điều khiển theo tùy chọn: 2\n",
      "Gửi thành công, Động cơ đã được điều khiển theo tùy chọn: 3\n",
      "Gửi thành công, Động cơ đã được điều khiển theo tùy chọn: 4\n",
      "Gửi thành công, Động cơ đã được điều khiển theo tùy chọn: 5\n",
      "Gửi thành công, Động cơ đã được điều khiển theo tùy chọn: 6\n",
      "Gửi thành công, Động cơ đã được điều khiển theo tùy chọn: 7\n",
      "Gửi thành công, Động cơ đã được điều khiển theo tùy chọn: 8\n",
      "Có lỗi xảy ra khi gửi yêu cầu: 400\n",
      "Có lỗi xảy ra khi gửi yêu cầu: 400\n",
      "Gửi thành công, Động cơ đã được điều khiển theo tùy chọn: 1\n",
      "Gửi thành công, Động cơ đã được điều khiển theo tùy chọn: 2\n",
      "Gửi thành công, Động cơ đã được điều khiển theo tùy chọn: 3\n",
      "Gửi thành công, Động cơ đã được điều khiển theo tùy chọn: 4\n",
      "Gửi thành công, Động cơ đã được điều khiển theo tùy chọn: 5\n",
      "Gửi thành công, Động cơ đã được điều khiển theo tùy chọn: 6\n",
      "Gửi thành công, Động cơ đã được điều khiển theo tùy chọn: 7\n",
      "Gửi thành công, Động cơ đã được điều khiển theo tùy chọn: 8\n",
      "Có lỗi xảy ra khi gửi yêu cầu: 400\n",
      "Có lỗi xảy ra khi gửi yêu cầu: 400\n",
      "Gửi thành công, Động cơ đã được điều khiển theo tùy chọn: 1\n",
      "Gửi thành công, Động cơ đã được điều khiển theo tùy chọn: 2\n",
      "Gửi thành công, Động cơ đã được điều khiển theo tùy chọn: 3\n",
      "Gửi thành công, Động cơ đã được điều khiển theo tùy chọn: 4\n",
      "Gửi thành công, Động cơ đã được điều khiển theo tùy chọn: 5\n",
      "Gửi thành công, Động cơ đã được điều khiển theo tùy chọn: 6\n",
      "Gửi thành công, Động cơ đã được điều khiển theo tùy chọn: 7\n",
      "Gửi thành công, Động cơ đã được điều khiển theo tùy chọn: 8\n",
      "Có lỗi xảy ra khi gửi yêu cầu: 400\n",
      "Có lỗi xảy ra khi gửi yêu cầu: 400\n"
     ]
    }
   ],
   "source": [
    "import time\n",
    "\n",
    "for j in range(1, 11):  # Vòng lặp từ 1 đến 10\n",
    "    for i in range(1, 11):  # Vòng lặp từ 1 đến 10\n",
    "        send_motor_command(i)\n",
    "        time.sleep(1)  # Delay 1 giây\n"
   ]
  },
  {
   "cell_type": "markdown",
   "metadata": {},
   "source": [
    "# v1"
   ]
  },
  {
   "cell_type": "code",
   "execution_count": null,
   "metadata": {},
   "outputs": [],
   "source": [
    "// ĐỘNG CƠ DC\n",
    "#include <ESP8266WiFi.h>\n",
    "#include <ESP8266WebServer.h>\n",
    "\n",
    "// Khai báo các chân điều khiển động cơ và LED\n",
    "const int motorPin1 = D6; // Chân IN1 của mạch điều khiển động cơ\n",
    "const int motorPin2 = D5; // Chân IN2 của mạch điều khiển động cơ\n",
    "const int ledPin1 = D1;   // Chân kết nối LED 1\n",
    "const int ledPin2 = D2;   // Chân kết nối LED 2\n",
    "const int ledPin3 = D3;   // Chân kết nối LED 3\n",
    "\n",
    "ESP8266WebServer server(80); // Khởi tạo server trên cổng 80\n",
    "\n",
    "void setup() {\n",
    "  Serial.begin(9600);\n",
    "  delay(1000);\n",
    "\n",
    "  // Kết nối WiFi\n",
    "  WiFi.begin(\"OPPO Reno VanManh Pro Vip\", \"vanmanh999\"); // SSID và mật khẩu\n",
    "  while (WiFi.waitForConnectResult() != WL_CONNECTED) {\n",
    "    Serial.println(\"Connecting...\");\n",
    "  }\n",
    "  Serial.println(\"IP: \");\n",
    "  Serial.println(WiFi.localIP());\n",
    "\n",
    "  // Thiết lập các chân điều khiển động cơ và LED là output\n",
    "  pinMode(motorPin1, OUTPUT);\n",
    "  pinMode(motorPin2, OUTPUT);\n",
    "  pinMode(ledPin1, OUTPUT);\n",
    "  pinMode(ledPin2, OUTPUT);\n",
    "  pinMode(ledPin3, OUTPUT);\n",
    "\n",
    "  // Thiết lập server\n",
    "  server.on(\"/\", [] {\n",
    "    server.send(200, \"text/html\",\n",
    "                \"<!DOCTYPE html>\"\n",
    "                \"<html>\"\n",
    "                \"<head>\"\n",
    "                \"<title>Control DC Motor and LED</title>\"\n",
    "                \"<script>\"\n",
    "                \"function sendOption() {\"\n",
    "                \"var optionInput = document.getElementById('option');\"\n",
    "                \"var xhttp = new XMLHttpRequest();\"\n",
    "                \"var option = optionInput.value;\"\n",
    "                \"xhttp.open('POST', 'sendOption', true);\"\n",
    "                \"xhttp.setRequestHeader('Content-type', 'application/x-www-form-urlencoded');\"\n",
    "                \"xhttp.send('option=' + option);\"\n",
    "                \"}\"\n",
    "                \"</script>\"\n",
    "                \"</head>\"\n",
    "                \"<body>\"\n",
    "                \"<label>Option (1: Engine On, 2: Engine Off, 3: LED1 On, 4: LED1 Off, 5: LED2 On, 6: LED2 Off, 7: LED3 On, 8: LED3 Off): </label>\"\n",
    "                \"<input type='text' id='option'>\"\n",
    "                \"<input type='button' value='Send' onclick='sendOption()'>\"\n",
    "                \"</body>\"\n",
    "                \"</html>\");\n",
    "  });\n",
    "\n",
    "  setupRoutes(); // Thiết lập các route của server\n",
    "  server.begin(); // Khởi động server\n",
    "}\n",
    "\n",
    "void handleSendOption() {\n",
    "  if (server.hasArg(\"option\")) {\n",
    "    int option = server.arg(\"option\").toInt();\n",
    "    switch (option) {\n",
    "      case 1:\n",
    "        // Bật động cơ\n",
    "        digitalWrite(motorPin1, HIGH);\n",
    "        digitalWrite(motorPin2, LOW);\n",
    "        Serial.println(\"Motor ON\");\n",
    "        server.send(200, \"text/plain\", \"Motor turned ON\");\n",
    "        break;\n",
    "      case 2:\n",
    "        // Tắt động cơ\n",
    "        digitalWrite(motorPin1, LOW);\n",
    "        digitalWrite(motorPin2, LOW);\n",
    "        Serial.println(\"Motor OFF\");\n",
    "        server.send(200, \"text/plain\", \"Motor turned OFF\");\n",
    "        break;\n",
    "      case 3:\n",
    "        // Bật LED 1\n",
    "        digitalWrite(ledPin1, HIGH);\n",
    "        Serial.println(\"LED 1 ON\");\n",
    "        server.send(200, \"text/plain\", \"LED 1 turned ON\");\n",
    "        break;\n",
    "      case 4:\n",
    "        // Tắt LED 1\n",
    "        digitalWrite(ledPin1, LOW);\n",
    "        Serial.println(\"LED 1 OFF\");\n",
    "        server.send(200, \"text/plain\", \"LED 1 turned OFF\");\n",
    "        break;\n",
    "      case 5:\n",
    "        // Bật LED 2\n",
    "        digitalWrite(ledPin2, HIGH);\n",
    "        Serial.println(\"LED 2 ON\");\n",
    "        server.send(200, \"text/plain\", \"LED 2 turned ON\");\n",
    "        break;\n",
    "      case 6:\n",
    "        // Tắt LED 2\n",
    "        digitalWrite(ledPin2, LOW);\n",
    "        Serial.println(\"LED 2 OFF\");\n",
    "        server.send(200, \"text/plain\", \"LED 2 turned OFF\");\n",
    "        break;\n",
    "      case 7:\n",
    "        // Bật LED 3\n",
    "        digitalWrite(ledPin3, HIGH);\n",
    "        Serial.println(\"LED 3 ON\");\n",
    "        server.send(200, \"text/plain\", \"LED 3 turned ON\");\n",
    "        break;\n",
    "      case 8:\n",
    "        // Tắt LED 3\n",
    "        digitalWrite(ledPin3, LOW);\n",
    "        Serial.println(\"LED 3 OFF\");\n",
    "        server.send(200, \"text/plain\", \"LED 3 turned OFF\");\n",
    "        break;\n",
    "      default:\n",
    "        server.send(400, \"text/plain\", \"Invalid option\");\n",
    "    }\n",
    "  } else {\n",
    "    server.send(400, \"text/plain\", \"Missing 'option' parameter\");\n",
    "  }\n",
    "}\n",
    "\n",
    "void setupRoutes() {\n",
    "  server.on(\"/sendOption\", handleSendOption); // Route để xử lý tùy chọn điều khiển\n",
    "}\n",
    "\n",
    "void loop() {\n",
    "  server.handleClient(); // Xử lý các yêu cầu từ client\n",
    "}\n"
   ]
  }
 ],
 "metadata": {
  "kernelspec": {
   "display_name": "base",
   "language": "python",
   "name": "python3"
  },
  "language_info": {
   "codemirror_mode": {
    "name": "ipython",
    "version": 3
   },
   "file_extension": ".py",
   "mimetype": "text/x-python",
   "name": "python",
   "nbconvert_exporter": "python",
   "pygments_lexer": "ipython3",
   "version": "3.11.7"
  }
 },
 "nbformat": 4,
 "nbformat_minor": 2
}
